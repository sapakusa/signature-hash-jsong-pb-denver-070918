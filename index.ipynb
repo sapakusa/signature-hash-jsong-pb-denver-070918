{
 "cells": [
  {
   "cell_type": "markdown",
   "metadata": {},
   "source": [
    "# Signature Hashes and Validation\n",
    "\n",
    "Perhaps the trickiest part of validating a transaction is the process of checking its signatures. A transaction typically has at least one signature per input. If there are multisig outputs being spent, there may be more. As we learned earlier, the ECDSA signature algorithm requires that for each input, we need the public key (P), the signature hash (z), and the Signature (r,s). Once these are determined, the process of verifying the signature is pretty simple.\n",
    "\n",
    "```python\n",
    "point = Point.parse(sec)\n",
    "signature = Signature.parse(der)\n",
    "point.verify(z, signature)  # True\n",
    "```\n",
    "\n",
    "The sec and der formats make getting the P, r and s pretty simple. The hard part is getting the actual signature hash (z). You would think that this would be easy since you can just hash the transaction. But you can't do that since the signature itself is part of the scriptSig and a signature can't sign itself.\n",
    "\n",
    "Instead, what you need to do is to modify the transaction before actually signing it. That is, you have to compute the z in a very particular way. The procedure is as follows."
   ]
  },
  {
   "cell_type": "code",
   "execution_count": 1,
   "metadata": {},
   "outputs": [
    {
     "name": "stdout",
     "output_type": "stream",
     "text": [
      "0x27e0c5994dec7824e56dec6b2fcb342eb7cdb0d0957c2fce9882f715e85d81a6\n"
     ]
    }
   ],
   "source": [
    "# double_sha256 example to get z\n",
    "\n",
    "from helper import double_sha256\n",
    "\n",
    "modified_tx = bytes.fromhex('0100000001813f79011acb80925dfe69b3def355fe914bd1d96a3f5f71bf8303c6a989c7d1000000001976a914a802fc56c704ce87c42d7c92eb75e7896bdc41ae88acfeffffff02a135ef01000000001976a914bc3b654dca7e56b04dca18f2566cdaf02e8d9ada88ac99c39800000000001976a9141c4bc762dd5423e332166702cb75f40df79fea1288ac1943060001000000')\n",
    "h = double_sha256(modified_tx)\n",
    "z = int.from_bytes(h, 'big')\n",
    "print(hex(z))"
   ]
  },
  {
   "cell_type": "markdown",
   "metadata": {},
   "source": [
    "### Test Driven Exercise"
   ]
  },
  {
   "cell_type": "code",
   "execution_count": 2,
   "metadata": {},
   "outputs": [],
   "source": [
    "from io import BytesIO\n",
    "from helper import (\n",
    "    SIGHASH_ALL,\n",
    "    int_to_little_endian,\n",
    "    double_sha256\n",
    ")\n",
    "from tx import Tx, TxIn\n",
    "\n",
    "\n",
    "class Tx(Tx):\n",
    "\n",
    "    def sig_hash(self, input_index, hash_type):\n",
    "        '''Returns the integer representation of the hash that needs to get\n",
    "        signed for index input_index'''\n",
    "        # create a new set of tx_ins (alt_tx_ins)\n",
    "        alt_tx_ins = []\n",
    "        # iterate over self.tx_ins\n",
    "        for tx_in in self.tx_ins:\n",
    "            # create a new TxIn that has a blank script_sig (b'') and add to alt_tx_ins\n",
    "            alt_tx_ins.append(TxIn(\n",
    "                prev_tx=tx_in.prev_tx,\n",
    "                prev_index=tx_in.prev_index,\n",
    "                script_sig=b'',\n",
    "                sequence=tx_in.sequence,\n",
    "            ))\n",
    "        # grab the input at the input_index\n",
    "        signing_input = alt_tx_ins[input_index]\n",
    "        # grab the script_pubkey of the input\n",
    "        script_pubkey = signing_input.script_pubkey(self.testnet)\n",
    "        # the script_sig of the signing_input should be script_pubkey\n",
    "        signing_input.script_sig = script_pubkey\n",
    "        # create an alternate transaction with the modified tx_ins\n",
    "        alt_tx = self.__class__(\n",
    "            version=self.version,\n",
    "            tx_ins=alt_tx_ins,\n",
    "            tx_outs=self.tx_outs,\n",
    "            locktime=self.locktime)\n",
    "        # add the hash_type int 4 bytes, little endian\n",
    "        result = alt_tx.serialize() + int_to_little_endian(hash_type, 4)\n",
    "        # get the double_sha256 of the tx serialization\n",
    "        s256 = double_sha256(result)\n",
    "        # convert this to a big-endian integer using int.from_bytes(x, 'big')\n",
    "        return int.from_bytes(s256, 'big')"
   ]
  },
  {
   "cell_type": "code",
   "execution_count": null,
   "metadata": {},
   "outputs": [],
   "source": []
  }
 ],
 "metadata": {
  "kernelspec": {
   "display_name": "Python 3",
   "language": "python",
   "name": "python3"
  },
  "language_info": {
   "codemirror_mode": {
    "name": "ipython",
    "version": 3
   },
   "file_extension": ".py",
   "mimetype": "text/x-python",
   "name": "python",
   "nbconvert_exporter": "python",
   "pygments_lexer": "ipython3",
   "version": "3.6.4"
  }
 },
 "nbformat": 4,
 "nbformat_minor": 2
}
